{
 "cells": [
  {
   "cell_type": "code",
   "execution_count": null,
   "id": "cdb2a2cc-3289-4c82-ba47-b972edb40932",
   "metadata": {},
   "outputs": [],
   "source": []
  },
  {
   "cell_type": "code",
   "execution_count": 34,
   "id": "7f78578f-356b-4852-94f9-8a178bdfe04e",
   "metadata": {},
   "outputs": [
    {
     "name": "stdin",
     "output_type": "stream",
     "text": [
      "введите первую сторону: 61\n",
      "введите вторую сторону: 34\n",
      "введите угол: 104\n"
     ]
    }
   ],
   "source": [
    "a,b,yg = float(input('введите первую сторону:')),float(input('введите вторую сторону:')),float(input('введите угол:'))"
   ]
  },
  {
   "cell_type": "code",
   "execution_count": 36,
   "id": "f47d9b0f-46b8-4578-9e02-4aec476f4cd7",
   "metadata": {},
   "outputs": [],
   "source": [
    "from math import *"
   ]
  },
  {
   "cell_type": "code",
   "execution_count": 38,
   "id": "18598dae-70dd-4525-a519-f0c4684c98b6",
   "metadata": {},
   "outputs": [],
   "source": [
    "yg  = (yg*pi)/180"
   ]
  },
  {
   "cell_type": "code",
   "execution_count": 40,
   "id": "553226d5-cd74-4632-a0da-ddc0143f8d55",
   "metadata": {},
   "outputs": [],
   "source": [
    "third= sqrt(a**2 + b**2 - 2 * a * b * cos(yg))\n"
   ]
  },
  {
   "cell_type": "code",
   "execution_count": 42,
   "id": "4fcf3b12-f841-4241-a3ce-732aeffad3b3",
   "metadata": {},
   "outputs": [
    {
     "name": "stdout",
     "output_type": "stream",
     "text": [
      "третья сторона равна = 76.68436622250601\n"
     ]
    }
   ],
   "source": [
    "print('третья сторона равна =', third)"
   ]
  },
  {
   "cell_type": "code",
   "execution_count": null,
   "id": "e7681f35-d049-4540-afa0-6eefbdea9845",
   "metadata": {},
   "outputs": [],
   "source": []
  }
 ],
 "metadata": {
  "kernelspec": {
   "display_name": "Python 3 (ipykernel)",
   "language": "python",
   "name": "python3"
  },
  "language_info": {
   "codemirror_mode": {
    "name": "ipython",
    "version": 3
   },
   "file_extension": ".py",
   "mimetype": "text/x-python",
   "name": "python",
   "nbconvert_exporter": "python",
   "pygments_lexer": "ipython3",
   "version": "3.12.4"
  }
 },
 "nbformat": 4,
 "nbformat_minor": 5
}
